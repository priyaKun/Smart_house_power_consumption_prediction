{
 "cells": [
  {
   "cell_type": "code",
   "execution_count": 3,
   "metadata": {},
   "outputs": [],
   "source": [
    "# Import necessary libraries\n",
    "import pandas as pd\n",
    "import numpy as np\n",
    "from sklearn.preprocessing import MinMaxScaler\n",
    "from sklearn.model_selection import train_test_split\n",
    "from tensorflow.keras.models import Sequential\n",
    "from tensorflow.keras.layers import LSTM, Dense, Input\n",
    "from tensorflow.keras.callbacks import EarlyStopping"
   ]
  },
  {
   "cell_type": "code",
   "execution_count": 4,
   "metadata": {},
   "outputs": [
    {
     "name": "stderr",
     "output_type": "stream",
     "text": [
      "C:\\Users\\keert\\AppData\\Local\\Temp\\ipykernel_6492\\4128364433.py:2: DtypeWarning: Columns (0,27) have mixed types. Specify dtype option on import or set low_memory=False.\n",
      "  df = pd.read_csv('D:/ML_Assignments/home_data.csv')\n"
     ]
    }
   ],
   "source": [
    "# Load the dataset and preprocess as before\n",
    "df = pd.read_csv('D:/ML_Assignments/home_data.csv')"
   ]
  },
  {
   "cell_type": "code",
   "execution_count": 5,
   "metadata": {},
   "outputs": [],
   "source": [
    "# Convert 'time' column to datetime format and coerce errors\n",
    "df['time'] = pd.to_datetime(df['time'], errors='coerce')"
   ]
  },
  {
   "cell_type": "code",
   "execution_count": 7,
   "metadata": {},
   "outputs": [],
   "source": [
    "# Define a single target column and weather-related input columns\n",
    "target_column = ['House overall [kW]']\n",
    "weather_columns = ['temperature', 'humidity', 'visibility', 'apparentTemperature',\n",
    "                   'pressure', 'windSpeed', 'windBearing', 'dewPoint']"
   ]
  },
  {
   "cell_type": "code",
   "execution_count": 9,
   "metadata": {},
   "outputs": [
    {
     "name": "stderr",
     "output_type": "stream",
     "text": [
      "C:\\Users\\keert\\AppData\\Local\\Temp\\ipykernel_6492\\1058757868.py:3: FutureWarning: DataFrame.fillna with 'method' is deprecated and will raise in a future version. Use obj.ffill() or obj.bfill() instead.\n",
      "  df_cleaned[weather_columns] = df_cleaned[weather_columns].fillna(method='ffill').fillna(method='bfill')\n",
      "C:\\Users\\keert\\AppData\\Local\\Temp\\ipykernel_6492\\1058757868.py:3: SettingWithCopyWarning: \n",
      "A value is trying to be set on a copy of a slice from a DataFrame.\n",
      "Try using .loc[row_indexer,col_indexer] = value instead\n",
      "\n",
      "See the caveats in the documentation: https://pandas.pydata.org/pandas-docs/stable/user_guide/indexing.html#returning-a-view-versus-a-copy\n",
      "  df_cleaned[weather_columns] = df_cleaned[weather_columns].fillna(method='ffill').fillna(method='bfill')\n"
     ]
    }
   ],
   "source": [
    "# Drop rows with missing values in the target column and fill weather-related columns\n",
    "df_cleaned = df.dropna(subset=target_column)\n",
    "df_cleaned[weather_columns] = df_cleaned[weather_columns].fillna(method='ffill').fillna(method='bfill')"
   ]
  },
  {
   "cell_type": "code",
   "execution_count": 10,
   "metadata": {},
   "outputs": [],
   "source": [
    "# Separate input features and target variable\n",
    "X = df_cleaned[weather_columns]\n",
    "y = df_cleaned[target_column]"
   ]
  },
  {
   "cell_type": "code",
   "execution_count": 11,
   "metadata": {},
   "outputs": [],
   "source": [
    "# Scale features and target column\n",
    "scaler_X = MinMaxScaler()\n",
    "scaler_y = MinMaxScaler()\n",
    "\n",
    "X_scaled = scaler_X.fit_transform(X)\n",
    "y_scaled = scaler_y.fit_transform(y)"
   ]
  },
  {
   "cell_type": "code",
   "execution_count": 12,
   "metadata": {},
   "outputs": [],
   "source": [
    "# Function to create sequences\n",
    "def create_sequences(X, y, time_steps=30):\n",
    "    Xs, ys = [], []\n",
    "    for i in range(len(X) - time_steps):\n",
    "        Xs.append(X[i:i + time_steps])\n",
    "        ys.append(y[i + time_steps])\n",
    "    return np.array(Xs), np.array(ys)"
   ]
  },
  {
   "cell_type": "code",
   "execution_count": 13,
   "metadata": {},
   "outputs": [],
   "source": [
    "# Generate sequences\n",
    "X_sequences, y_sequences = create_sequences(X_scaled, y_scaled, time_steps=60)\n",
    "\n",
    "# Split the data into training and testing sets\n",
    "X_train, X_test, y_train, y_test = train_test_split(X_sequences, y_sequences, test_size=0.3, random_state=42, shuffle=False)"
   ]
  },
  {
   "cell_type": "code",
   "execution_count": 10,
   "metadata": {},
   "outputs": [
    {
     "name": "stderr",
     "output_type": "stream",
     "text": [
      "C:\\Users\\keert\\AppData\\Roaming\\Python\\Python311\\site-packages\\keras\\src\\layers\\rnn\\rnn.py:204: UserWarning: Do not pass an `input_shape`/`input_dim` argument to a layer. When using Sequential models, prefer using an `Input(shape)` object as the first layer in the model instead.\n",
      "  super().__init__(**kwargs)\n"
     ]
    }
   ],
   "source": [
    "# Build the LSTM model\n",
    "model = Sequential()\n",
    "model.add(LSTM(56, activation='tanh', return_sequences=True, input_shape=(X_train.shape[1], X_train.shape[2])))\n",
    "model.add(LSTM(28, activation='tanh', return_sequences=True))\n",
    "model.add(LSTM(14, activation='tanh'))\n",
    "model.add(Dense(1))  # Single output"
   ]
  },
  {
   "cell_type": "code",
   "execution_count": 11,
   "metadata": {},
   "outputs": [],
   "source": [
    "# Compile the model with MAE as the loss function\n",
    "model.compile(optimizer='adam', loss='mean_absolute_error')"
   ]
  },
  {
   "cell_type": "code",
   "execution_count": 12,
   "metadata": {},
   "outputs": [],
   "source": [
    "# Early stopping to prevent overfitting\n",
    "early_stopping = EarlyStopping(monitor='val_loss', patience=10, min_delta=0.00005, restore_best_weights=True)"
   ]
  },
  {
   "cell_type": "code",
   "execution_count": 13,
   "metadata": {},
   "outputs": [
    {
     "name": "stdout",
     "output_type": "stream",
     "text": [
      "Epoch 1/50\n",
      "\u001b[1m1929/1929\u001b[0m \u001b[32m━━━━━━━━━━━━━━━━━━━━\u001b[0m\u001b[37m\u001b[0m \u001b[1m140s\u001b[0m 67ms/step - loss: 0.0285 - val_loss: 0.0625\n",
      "Epoch 2/50\n",
      "\u001b[1m1929/1929\u001b[0m \u001b[32m━━━━━━━━━━━━━━━━━━━━\u001b[0m\u001b[37m\u001b[0m \u001b[1m128s\u001b[0m 66ms/step - loss: 0.0270 - val_loss: 0.0612\n",
      "Epoch 3/50\n",
      "\u001b[1m1929/1929\u001b[0m \u001b[32m━━━━━━━━━━━━━━━━━━━━\u001b[0m\u001b[37m\u001b[0m \u001b[1m125s\u001b[0m 65ms/step - loss: 0.0266 - val_loss: 0.0581\n",
      "Epoch 4/50\n",
      "\u001b[1m1929/1929\u001b[0m \u001b[32m━━━━━━━━━━━━━━━━━━━━\u001b[0m\u001b[37m\u001b[0m \u001b[1m118s\u001b[0m 61ms/step - loss: 0.0264 - val_loss: 0.0579\n",
      "Epoch 5/50\n",
      "\u001b[1m1929/1929\u001b[0m \u001b[32m━━━━━━━━━━━━━━━━━━━━\u001b[0m\u001b[37m\u001b[0m \u001b[1m94s\u001b[0m 49ms/step - loss: 0.0261 - val_loss: 0.0588\n",
      "Epoch 6/50\n",
      "\u001b[1m1929/1929\u001b[0m \u001b[32m━━━━━━━━━━━━━━━━━━━━\u001b[0m\u001b[37m\u001b[0m \u001b[1m111s\u001b[0m 57ms/step - loss: 0.0258 - val_loss: 0.0575\n",
      "Epoch 7/50\n",
      "\u001b[1m1929/1929\u001b[0m \u001b[32m━━━━━━━━━━━━━━━━━━━━\u001b[0m\u001b[37m\u001b[0m \u001b[1m129s\u001b[0m 67ms/step - loss: 0.0256 - val_loss: 0.0610\n",
      "Epoch 8/50\n",
      "\u001b[1m1929/1929\u001b[0m \u001b[32m━━━━━━━━━━━━━━━━━━━━\u001b[0m\u001b[37m\u001b[0m \u001b[1m118s\u001b[0m 61ms/step - loss: 0.0253 - val_loss: 0.0590\n",
      "Epoch 9/50\n",
      "\u001b[1m1929/1929\u001b[0m \u001b[32m━━━━━━━━━━━━━━━━━━━━\u001b[0m\u001b[37m\u001b[0m \u001b[1m124s\u001b[0m 64ms/step - loss: 0.0250 - val_loss: 0.0593\n",
      "Epoch 10/50\n",
      "\u001b[1m1929/1929\u001b[0m \u001b[32m━━━━━━━━━━━━━━━━━━━━\u001b[0m\u001b[37m\u001b[0m \u001b[1m127s\u001b[0m 66ms/step - loss: 0.0248 - val_loss: 0.0597\n",
      "Epoch 11/50\n",
      "\u001b[1m1929/1929\u001b[0m \u001b[32m━━━━━━━━━━━━━━━━━━━━\u001b[0m\u001b[37m\u001b[0m \u001b[1m126s\u001b[0m 65ms/step - loss: 0.0242 - val_loss: 0.0605\n",
      "Epoch 12/50\n",
      "\u001b[1m1929/1929\u001b[0m \u001b[32m━━━━━━━━━━━━━━━━━━━━\u001b[0m\u001b[37m\u001b[0m \u001b[1m137s\u001b[0m 71ms/step - loss: 0.0238 - val_loss: 0.0600\n",
      "Epoch 13/50\n",
      "\u001b[1m1929/1929\u001b[0m \u001b[32m━━━━━━━━━━━━━━━━━━━━\u001b[0m\u001b[37m\u001b[0m \u001b[1m140s\u001b[0m 72ms/step - loss: 0.0234 - val_loss: 0.0598\n",
      "Epoch 14/50\n",
      "\u001b[1m1929/1929\u001b[0m \u001b[32m━━━━━━━━━━━━━━━━━━━━\u001b[0m\u001b[37m\u001b[0m \u001b[1m142s\u001b[0m 73ms/step - loss: 0.0228 - val_loss: 0.0605\n",
      "Epoch 15/50\n",
      "\u001b[1m1929/1929\u001b[0m \u001b[32m━━━━━━━━━━━━━━━━━━━━\u001b[0m\u001b[37m\u001b[0m \u001b[1m136s\u001b[0m 71ms/step - loss: 0.0228 - val_loss: 0.0613\n",
      "Epoch 16/50\n",
      "\u001b[1m1929/1929\u001b[0m \u001b[32m━━━━━━━━━━━━━━━━━━━━\u001b[0m\u001b[37m\u001b[0m \u001b[1m140s\u001b[0m 73ms/step - loss: 0.0224 - val_loss: 0.0630\n"
     ]
    }
   ],
   "source": [
    "# Train the model\n",
    "history = model.fit(\n",
    "    X_train, y_train,\n",
    "    validation_split=0.3,\n",
    "    epochs=50,\n",
    "    batch_size=128,\n",
    "    callbacks=[early_stopping],\n",
    "    verbose=1\n",
    ")"
   ]
  },
  {
   "cell_type": "code",
   "execution_count": 14,
   "metadata": {},
   "outputs": [
    {
     "name": "stdout",
     "output_type": "stream",
     "text": [
      "Test Loss (MAE): 0.029298264533281326\n"
     ]
    }
   ],
   "source": [
    "# Evaluate the model\n",
    "loss = model.evaluate(X_test, y_test, verbose=0)\n",
    "print(f'Test Loss (MAE): {loss}')"
   ]
  },
  {
   "cell_type": "code",
   "execution_count": 15,
   "metadata": {},
   "outputs": [
    {
     "name": "stdout",
     "output_type": "stream",
     "text": [
      "\u001b[1m4724/4724\u001b[0m \u001b[32m━━━━━━━━━━━━━━━━━━━━\u001b[0m\u001b[37m\u001b[0m \u001b[1m66s\u001b[0m 14ms/step\n"
     ]
    }
   ],
   "source": [
    "# Make predictions\n",
    "y_pred_scaled = model.predict(X_test)"
   ]
  },
  {
   "cell_type": "code",
   "execution_count": 16,
   "metadata": {},
   "outputs": [],
   "source": [
    "# Inverse transform the predictions and the actual values\n",
    "y_pred = scaler_y.inverse_transform(y_pred_scaled)\n",
    "y_test_original = scaler_y.inverse_transform(y_test)"
   ]
  },
  {
   "cell_type": "code",
   "execution_count": null,
   "metadata": {},
   "outputs": [],
   "source": []
  },
  {
   "cell_type": "code",
   "execution_count": 1,
   "metadata": {},
   "outputs": [],
   "source": [
    "# Import necessary libraries\n",
    "import pandas as pd\n",
    "import numpy as np\n",
    "from sklearn.preprocessing import MinMaxScaler\n",
    "from sklearn.model_selection import train_test_split\n",
    "from tensorflow.keras.models import Sequential\n",
    "from tensorflow.keras.layers import LSTM, Dense, Input\n",
    "from tensorflow.keras.callbacks import EarlyStopping"
   ]
  },
  {
   "cell_type": "code",
   "execution_count": 2,
   "metadata": {},
   "outputs": [
    {
     "name": "stderr",
     "output_type": "stream",
     "text": [
      "C:\\Users\\keert\\AppData\\Local\\Temp\\ipykernel_16180\\4128364433.py:2: DtypeWarning: Columns (0,27) have mixed types. Specify dtype option on import or set low_memory=False.\n",
      "  df = pd.read_csv('D:/ML_Assignments/home_data.csv')\n"
     ]
    }
   ],
   "source": [
    "# Load the dataset and preprocess as before\n",
    "df = pd.read_csv('D:/ML_Assignments/home_data.csv')"
   ]
  },
  {
   "cell_type": "code",
   "execution_count": 3,
   "metadata": {},
   "outputs": [],
   "source": [
    "# Convert 'time' column to datetime format and coerce errors\n",
    "df['time'] = pd.to_datetime(df['time'], errors='coerce')"
   ]
  },
  {
   "cell_type": "code",
   "execution_count": 4,
   "metadata": {},
   "outputs": [
    {
     "name": "stderr",
     "output_type": "stream",
     "text": [
      "C:\\Users\\keert\\AppData\\Local\\Temp\\ipykernel_16180\\881302698.py:9: FutureWarning: DataFrame.fillna with 'method' is deprecated and will raise in a future version. Use obj.ffill() or obj.bfill() instead.\n",
      "  df_cleaned[weather_columns] = df_cleaned[weather_columns].fillna(method='ffill').fillna(method='bfill')\n",
      "C:\\Users\\keert\\AppData\\Local\\Temp\\ipykernel_16180\\881302698.py:9: SettingWithCopyWarning: \n",
      "A value is trying to be set on a copy of a slice from a DataFrame.\n",
      "Try using .loc[row_indexer,col_indexer] = value instead\n",
      "\n",
      "See the caveats in the documentation: https://pandas.pydata.org/pandas-docs/stable/user_guide/indexing.html#returning-a-view-versus-a-copy\n",
      "  df_cleaned[weather_columns] = df_cleaned[weather_columns].fillna(method='ffill').fillna(method='bfill')\n"
     ]
    }
   ],
   "source": [
    "# Define a single target column and weather-related input columns\n",
    "target_column = ['gen [kW]']\n",
    "weather_columns = ['temperature', 'humidity', 'visibility', 'apparentTemperature',\n",
    "                   'pressure', 'windSpeed', 'windBearing', 'dewPoint']\n",
    "\n",
    "\n",
    "# Drop rows with missing values in the target column and fill weather-related columns\n",
    "df_cleaned = df.dropna(subset=target_column)\n",
    "df_cleaned[weather_columns] = df_cleaned[weather_columns].fillna(method='ffill').fillna(method='bfill')\n"
   ]
  },
  {
   "cell_type": "code",
   "execution_count": 5,
   "metadata": {},
   "outputs": [],
   "source": [
    "# Separate input features and target variable\n",
    "X = df_cleaned[weather_columns]\n",
    "y = df_cleaned[target_column]\n",
    "\n",
    "# Scale features and target column\n",
    "scaler_X = MinMaxScaler()\n",
    "scaler_y = MinMaxScaler()\n",
    "\n",
    "X_scaled = scaler_X.fit_transform(X)\n",
    "y_scaled = scaler_y.fit_transform(y)"
   ]
  },
  {
   "cell_type": "code",
   "execution_count": 6,
   "metadata": {},
   "outputs": [],
   "source": [
    "# Function to create sequences\n",
    "def create_sequences(X, y, time_steps=30):\n",
    "    Xs, ys = [], []\n",
    "    for i in range(len(X) - time_steps):\n",
    "        Xs.append(X[i:i + time_steps])\n",
    "        ys.append(y[i + time_steps])\n",
    "    return np.array(Xs), np.array(ys)"
   ]
  },
  {
   "cell_type": "code",
   "execution_count": 7,
   "metadata": {},
   "outputs": [],
   "source": [
    "# Generate sequences\n",
    "X_sequences, y_sequences = create_sequences(X_scaled, y_scaled, time_steps=60)\n",
    "\n",
    "# Split the data into training and testing sets\n",
    "X_train, X_test, y_train, y_test = train_test_split(X_sequences, y_sequences, test_size=0.3, random_state=42, shuffle=False)"
   ]
  },
  {
   "cell_type": "code",
   "execution_count": 8,
   "metadata": {},
   "outputs": [
    {
     "name": "stderr",
     "output_type": "stream",
     "text": [
      "C:\\Users\\keert\\AppData\\Roaming\\Python\\Python311\\site-packages\\keras\\src\\layers\\rnn\\rnn.py:204: UserWarning: Do not pass an `input_shape`/`input_dim` argument to a layer. When using Sequential models, prefer using an `Input(shape)` object as the first layer in the model instead.\n",
      "  super().__init__(**kwargs)\n"
     ]
    }
   ],
   "source": [
    "# Build the LSTM model\n",
    "model = Sequential()\n",
    "model.add(LSTM(56, activation='tanh', return_sequences=True, input_shape=(X_train.shape[1], X_train.shape[2])))\n",
    "model.add(LSTM(28, activation='tanh', return_sequences=True))\n",
    "model.add(LSTM(14, activation='tanh'))\n",
    "model.add(Dense(1))  # Single output"
   ]
  },
  {
   "cell_type": "code",
   "execution_count": 9,
   "metadata": {},
   "outputs": [],
   "source": [
    "# Compile the model with MAE as the loss function\n",
    "model.compile(optimizer='adam', loss='mean_absolute_error')"
   ]
  },
  {
   "cell_type": "code",
   "execution_count": 10,
   "metadata": {},
   "outputs": [],
   "source": [
    "# Early stopping to prevent overfitting\n",
    "early_stopping = EarlyStopping(monitor='val_loss', patience=10, min_delta=0.00005, restore_best_weights=True)"
   ]
  },
  {
   "cell_type": "code",
   "execution_count": 11,
   "metadata": {},
   "outputs": [
    {
     "name": "stdout",
     "output_type": "stream",
     "text": [
      "Epoch 1/50\n",
      "\u001b[1m1929/1929\u001b[0m \u001b[32m━━━━━━━━━━━━━━━━━━━━\u001b[0m\u001b[37m\u001b[0m \u001b[1m134s\u001b[0m 65ms/step - loss: 0.1240 - val_loss: 0.1504\n",
      "Epoch 2/50\n",
      "\u001b[1m1929/1929\u001b[0m \u001b[32m━━━━━━━━━━━━━━━━━━━━\u001b[0m\u001b[37m\u001b[0m \u001b[1m134s\u001b[0m 70ms/step - loss: 0.1227 - val_loss: 0.1498\n",
      "Epoch 3/50\n",
      "\u001b[1m1929/1929\u001b[0m \u001b[32m━━━━━━━━━━━━━━━━━━━━\u001b[0m\u001b[37m\u001b[0m \u001b[1m116s\u001b[0m 60ms/step - loss: 0.1234 - val_loss: 0.1493\n",
      "Epoch 4/50\n",
      "\u001b[1m1929/1929\u001b[0m \u001b[32m━━━━━━━━━━━━━━━━━━━━\u001b[0m\u001b[37m\u001b[0m \u001b[1m173s\u001b[0m 90ms/step - loss: 0.1230 - val_loss: 0.1494\n",
      "Epoch 5/50\n",
      "\u001b[1m1929/1929\u001b[0m \u001b[32m━━━━━━━━━━━━━━━━━━━━\u001b[0m\u001b[37m\u001b[0m \u001b[1m131s\u001b[0m 68ms/step - loss: 0.1207 - val_loss: 0.1524\n",
      "Epoch 6/50\n",
      "\u001b[1m1929/1929\u001b[0m \u001b[32m━━━━━━━━━━━━━━━━━━━━\u001b[0m\u001b[37m\u001b[0m \u001b[1m116s\u001b[0m 60ms/step - loss: 0.1219 - val_loss: 0.1492\n",
      "Epoch 7/50\n",
      "\u001b[1m1929/1929\u001b[0m \u001b[32m━━━━━━━━━━━━━━━━━━━━\u001b[0m\u001b[37m\u001b[0m \u001b[1m111s\u001b[0m 58ms/step - loss: 0.1233 - val_loss: 0.1497\n",
      "Epoch 8/50\n",
      "\u001b[1m1929/1929\u001b[0m \u001b[32m━━━━━━━━━━━━━━━━━━━━\u001b[0m\u001b[37m\u001b[0m \u001b[1m116s\u001b[0m 60ms/step - loss: 0.1233 - val_loss: 0.1504\n",
      "Epoch 9/50\n",
      "\u001b[1m1929/1929\u001b[0m \u001b[32m━━━━━━━━━━━━━━━━━━━━\u001b[0m\u001b[37m\u001b[0m \u001b[1m116s\u001b[0m 60ms/step - loss: 0.1224 - val_loss: 0.1494\n",
      "Epoch 10/50\n",
      "\u001b[1m1929/1929\u001b[0m \u001b[32m━━━━━━━━━━━━━━━━━━━━\u001b[0m\u001b[37m\u001b[0m \u001b[1m116s\u001b[0m 60ms/step - loss: 0.1236 - val_loss: 0.1494\n",
      "Epoch 11/50\n",
      "\u001b[1m1929/1929\u001b[0m \u001b[32m━━━━━━━━━━━━━━━━━━━━\u001b[0m\u001b[37m\u001b[0m \u001b[1m115s\u001b[0m 60ms/step - loss: 0.1232 - val_loss: 0.1566\n",
      "Epoch 12/50\n",
      "\u001b[1m1929/1929\u001b[0m \u001b[32m━━━━━━━━━━━━━━━━━━━━\u001b[0m\u001b[37m\u001b[0m \u001b[1m117s\u001b[0m 61ms/step - loss: 0.1221 - val_loss: 0.1590\n",
      "Epoch 13/50\n",
      "\u001b[1m1929/1929\u001b[0m \u001b[32m━━━━━━━━━━━━━━━━━━━━\u001b[0m\u001b[37m\u001b[0m \u001b[1m128s\u001b[0m 67ms/step - loss: 0.1216 - val_loss: 0.1723\n",
      "Epoch 14/50\n",
      "\u001b[1m1929/1929\u001b[0m \u001b[32m━━━━━━━━━━━━━━━━━━━━\u001b[0m\u001b[37m\u001b[0m \u001b[1m132s\u001b[0m 68ms/step - loss: 0.1200 - val_loss: 0.1636\n",
      "Epoch 15/50\n",
      "\u001b[1m1929/1929\u001b[0m \u001b[32m━━━━━━━━━━━━━━━━━━━━\u001b[0m\u001b[37m\u001b[0m \u001b[1m137s\u001b[0m 71ms/step - loss: 0.1176 - val_loss: 0.1675\n",
      "Epoch 16/50\n",
      "\u001b[1m1929/1929\u001b[0m \u001b[32m━━━━━━━━━━━━━━━━━━━━\u001b[0m\u001b[37m\u001b[0m \u001b[1m130s\u001b[0m 67ms/step - loss: 0.1150 - val_loss: 0.1781\n"
     ]
    }
   ],
   "source": [
    "# Train the model\n",
    "history = model.fit(\n",
    "    X_train, y_train,\n",
    "    validation_split=0.3,\n",
    "    epochs=50,\n",
    "    batch_size=128,\n",
    "    callbacks=[early_stopping],\n",
    "    verbose=1\n",
    ")"
   ]
  },
  {
   "cell_type": "code",
   "execution_count": 12,
   "metadata": {},
   "outputs": [
    {
     "name": "stdout",
     "output_type": "stream",
     "text": [
      "Test Loss (MAE): 0.09416600316762924\n"
     ]
    }
   ],
   "source": [
    "# Evaluate the model\n",
    "loss = model.evaluate(X_test, y_test, verbose=0)\n",
    "print(f'Test Loss (MAE): {loss}')"
   ]
  },
  {
   "cell_type": "code",
   "execution_count": null,
   "metadata": {},
   "outputs": [],
   "source": []
  },
  {
   "cell_type": "code",
   "execution_count": 13,
   "metadata": {},
   "outputs": [
    {
     "name": "stderr",
     "output_type": "stream",
     "text": [
      "C:\\Users\\keert\\AppData\\Local\\Temp\\ipykernel_16180\\624685616.py:6: FutureWarning: DataFrame.fillna with 'method' is deprecated and will raise in a future version. Use obj.ffill() or obj.bfill() instead.\n",
      "  df_cleaned[weather_columns] = df_cleaned[weather_columns].fillna(method='ffill').fillna(method='bfill')\n",
      "C:\\Users\\keert\\AppData\\Local\\Temp\\ipykernel_16180\\624685616.py:6: SettingWithCopyWarning: \n",
      "A value is trying to be set on a copy of a slice from a DataFrame.\n",
      "Try using .loc[row_indexer,col_indexer] = value instead\n",
      "\n",
      "See the caveats in the documentation: https://pandas.pydata.org/pandas-docs/stable/user_guide/indexing.html#returning-a-view-versus-a-copy\n",
      "  df_cleaned[weather_columns] = df_cleaned[weather_columns].fillna(method='ffill').fillna(method='bfill')\n",
      "C:\\Users\\keert\\AppData\\Roaming\\Python\\Python311\\site-packages\\keras\\src\\layers\\rnn\\rnn.py:204: UserWarning: Do not pass an `input_shape`/`input_dim` argument to a layer. When using Sequential models, prefer using an `Input(shape)` object as the first layer in the model instead.\n",
      "  super().__init__(**kwargs)\n"
     ]
    },
    {
     "name": "stdout",
     "output_type": "stream",
     "text": [
      "Epoch 1/50\n",
      "\u001b[1m1929/1929\u001b[0m \u001b[32m━━━━━━━━━━━━━━━━━━━━\u001b[0m\u001b[37m\u001b[0m \u001b[1m128s\u001b[0m 62ms/step - loss: 0.0041 - val_loss: 0.0027\n",
      "Epoch 2/50\n",
      "\u001b[1m1929/1929\u001b[0m \u001b[32m━━━━━━━━━━━━━━━━━━━━\u001b[0m\u001b[37m\u001b[0m \u001b[1m117s\u001b[0m 60ms/step - loss: 0.0011 - val_loss: 0.0025\n",
      "Epoch 3/50\n",
      "\u001b[1m1929/1929\u001b[0m \u001b[32m━━━━━━━━━━━━━━━━━━━━\u001b[0m\u001b[37m\u001b[0m \u001b[1m114s\u001b[0m 59ms/step - loss: 9.7192e-04 - val_loss: 0.0024\n",
      "Epoch 4/50\n",
      "\u001b[1m1929/1929\u001b[0m \u001b[32m━━━━━━━━━━━━━━━━━━━━\u001b[0m\u001b[37m\u001b[0m \u001b[1m110s\u001b[0m 57ms/step - loss: 9.5900e-04 - val_loss: 0.0024\n",
      "Epoch 5/50\n",
      "\u001b[1m1929/1929\u001b[0m \u001b[32m━━━━━━━━━━━━━━━━━━━━\u001b[0m\u001b[37m\u001b[0m \u001b[1m129s\u001b[0m 67ms/step - loss: 8.6741e-04 - val_loss: 0.0024\n",
      "Epoch 6/50\n",
      "\u001b[1m1929/1929\u001b[0m \u001b[32m━━━━━━━━━━━━━━━━━━━━\u001b[0m\u001b[37m\u001b[0m \u001b[1m132s\u001b[0m 69ms/step - loss: 9.0329e-04 - val_loss: 0.0027\n",
      "Epoch 7/50\n",
      "\u001b[1m1929/1929\u001b[0m \u001b[32m━━━━━━━━━━━━━━━━━━━━\u001b[0m\u001b[37m\u001b[0m \u001b[1m128s\u001b[0m 67ms/step - loss: 8.9523e-04 - val_loss: 0.0024\n",
      "Epoch 8/50\n",
      "\u001b[1m1929/1929\u001b[0m \u001b[32m━━━━━━━━━━━━━━━━━━━━\u001b[0m\u001b[37m\u001b[0m \u001b[1m129s\u001b[0m 67ms/step - loss: 8.6701e-04 - val_loss: 0.0025\n",
      "Epoch 9/50\n",
      "\u001b[1m1929/1929\u001b[0m \u001b[32m━━━━━━━━━━━━━━━━━━━━\u001b[0m\u001b[37m\u001b[0m \u001b[1m137s\u001b[0m 71ms/step - loss: 8.8030e-04 - val_loss: 0.0024\n",
      "Epoch 10/50\n",
      "\u001b[1m1929/1929\u001b[0m \u001b[32m━━━━━━━━━━━━━━━━━━━━\u001b[0m\u001b[37m\u001b[0m \u001b[1m138s\u001b[0m 71ms/step - loss: 8.6134e-04 - val_loss: 0.0025\n",
      "Epoch 11/50\n",
      "\u001b[1m1929/1929\u001b[0m \u001b[32m━━━━━━━━━━━━━━━━━━━━\u001b[0m\u001b[37m\u001b[0m \u001b[1m142s\u001b[0m 73ms/step - loss: 8.7977e-04 - val_loss: 0.0025\n",
      "Epoch 12/50\n",
      "\u001b[1m1929/1929\u001b[0m \u001b[32m━━━━━━━━━━━━━━━━━━━━\u001b[0m\u001b[37m\u001b[0m \u001b[1m140s\u001b[0m 73ms/step - loss: 8.0108e-04 - val_loss: 0.0024\n",
      "Test Loss (MAE): 0.0034510872792452574\n",
      "\u001b[1m4724/4724\u001b[0m \u001b[32m━━━━━━━━━━━━━━━━━━━━\u001b[0m\u001b[37m\u001b[0m \u001b[1m62s\u001b[0m 13ms/step\n",
      "Predictions: [[0.00080184]\n",
      " [0.00081246]\n",
      " [0.00081618]\n",
      " [0.00081412]\n",
      " [0.00080822]]\n",
      "Actual Values: [[0.00058333]\n",
      " [0.00061667]\n",
      " [0.00061667]\n",
      " [0.0006    ]\n",
      " [0.00061667]]\n"
     ]
    }
   ],
   "source": [
    "# Define the target column 'Kitchen 12 [kW]'\n",
    "critical_columns = ['Kitchen 12 [kW]']\n",
    "\n",
    "# Drop rows with missing values in critical target column and forward-fill/backward-fill weather columns\n",
    "df_cleaned = df.dropna(subset=critical_columns)\n",
    "df_cleaned[weather_columns] = df_cleaned[weather_columns].fillna(method='ffill').fillna(method='bfill')\n",
    "\n",
    "# Separate input features and target variables\n",
    "X = df_cleaned[weather_columns]\n",
    "y = df_cleaned[critical_columns]\n",
    "\n",
    "# Scale features and target columns\n",
    "scaler_X = MinMaxScaler()\n",
    "scaler_y = MinMaxScaler()\n",
    "\n",
    "X_scaled = scaler_X.fit_transform(X)\n",
    "y_scaled = scaler_y.fit_transform(y)\n",
    "\n",
    "# Generate sequences\n",
    "X_sequences, y_sequences = create_sequences(X_scaled, y_scaled, time_steps=60)\n",
    "\n",
    "# Split the data into training and testing sets\n",
    "X_train, X_test, y_train, y_test = train_test_split(X_sequences, y_sequences, test_size=0.3, random_state=42, shuffle=False)\n",
    "\n",
    "# Build the LSTM model\n",
    "model = Sequential()\n",
    "model.add(LSTM(56, activation='tanh', return_sequences=True, input_shape=(X_train.shape[1], X_train.shape[2])))\n",
    "model.add(LSTM(28, activation='tanh', return_sequences=True))\n",
    "model.add(LSTM(14, activation='tanh'))\n",
    "model.add(Dense(1))  # Single output for 'Kitchen 12 [kW]'\n",
    "\n",
    "# Compile the model with MAE as the loss function\n",
    "model.compile(optimizer='adam', loss='mean_absolute_error')\n",
    "\n",
    "# Early stopping to prevent overfitting\n",
    "early_stopping = EarlyStopping(monitor='val_loss', patience=10, min_delta=0.00005, restore_best_weights=True)\n",
    "\n",
    "# Train the model\n",
    "history = model.fit(\n",
    "    X_train, y_train,\n",
    "    validation_split=0.3,\n",
    "    epochs=50,\n",
    "    batch_size=128,\n",
    "    callbacks=[early_stopping],\n",
    "    verbose=1\n",
    ")\n",
    "\n",
    "# Evaluate the model\n",
    "loss = model.evaluate(X_test, y_test, verbose=0)\n",
    "print(f'Test Loss (MAE): {loss}')\n",
    "\n",
    "# Make predictions\n",
    "y_pred_scaled = model.predict(X_test)\n",
    "\n",
    "# Inverse transform the predictions and the actual values\n",
    "y_pred = scaler_y.inverse_transform(y_pred_scaled)\n",
    "y_test_original = scaler_y.inverse_transform(y_test)\n",
    "\n",
    "# Print the first few predictions and actual values for comparison\n",
    "print(f'Predictions: {y_pred[:5]}')\n",
    "print(f'Actual Values: {y_test_original[:5]}')\n"
   ]
  },
  {
   "cell_type": "code",
   "execution_count": 27,
   "metadata": {},
   "outputs": [
    {
     "name": "stderr",
     "output_type": "stream",
     "text": [
      "C:\\Users\\keert\\AppData\\Local\\Temp\\ipykernel_16180\\3242260468.py:6: FutureWarning: DataFrame.fillna with 'method' is deprecated and will raise in a future version. Use obj.ffill() or obj.bfill() instead.\n",
      "  df_cleaned[weather_columns] = df_cleaned[weather_columns].fillna(method='ffill').fillna(method='bfill')\n",
      "C:\\Users\\keert\\AppData\\Local\\Temp\\ipykernel_16180\\3242260468.py:6: SettingWithCopyWarning: \n",
      "A value is trying to be set on a copy of a slice from a DataFrame.\n",
      "Try using .loc[row_indexer,col_indexer] = value instead\n",
      "\n",
      "See the caveats in the documentation: https://pandas.pydata.org/pandas-docs/stable/user_guide/indexing.html#returning-a-view-versus-a-copy\n",
      "  df_cleaned[weather_columns] = df_cleaned[weather_columns].fillna(method='ffill').fillna(method='bfill')\n",
      "C:\\Users\\keert\\AppData\\Roaming\\Python\\Python311\\site-packages\\keras\\src\\layers\\rnn\\rnn.py:204: UserWarning: Do not pass an `input_shape`/`input_dim` argument to a layer. When using Sequential models, prefer using an `Input(shape)` object as the first layer in the model instead.\n",
      "  super().__init__(**kwargs)\n"
     ]
    },
    {
     "name": "stdout",
     "output_type": "stream",
     "text": [
      "Epoch 1/50\n",
      "\u001b[1m1929/1929\u001b[0m \u001b[32m━━━━━━━━━━━━━━━━━━━━\u001b[0m\u001b[37m\u001b[0m \u001b[1m165s\u001b[0m 77ms/step - loss: 0.0262 - val_loss: 0.0210\n",
      "Epoch 2/50\n",
      "\u001b[1m1929/1929\u001b[0m \u001b[32m━━━━━━━━━━━━━━━━━━━━\u001b[0m\u001b[37m\u001b[0m \u001b[1m147s\u001b[0m 76ms/step - loss: 0.0235 - val_loss: 0.0203\n",
      "Epoch 3/50\n",
      "\u001b[1m1929/1929\u001b[0m \u001b[32m━━━━━━━━━━━━━━━━━━━━\u001b[0m\u001b[37m\u001b[0m \u001b[1m154s\u001b[0m 80ms/step - loss: 0.0231 - val_loss: 0.0201\n",
      "Epoch 4/50\n",
      "\u001b[1m1929/1929\u001b[0m \u001b[32m━━━━━━━━━━━━━━━━━━━━\u001b[0m\u001b[37m\u001b[0m \u001b[1m161s\u001b[0m 84ms/step - loss: 0.0228 - val_loss: 0.0201\n",
      "Epoch 5/50\n",
      "\u001b[1m1929/1929\u001b[0m \u001b[32m━━━━━━━━━━━━━━━━━━━━\u001b[0m\u001b[37m\u001b[0m \u001b[1m196s\u001b[0m 102ms/step - loss: 0.0229 - val_loss: 0.0202\n",
      "Epoch 6/50\n",
      "\u001b[1m1929/1929\u001b[0m \u001b[32m━━━━━━━━━━━━━━━━━━━━\u001b[0m\u001b[37m\u001b[0m \u001b[1m170s\u001b[0m 88ms/step - loss: 0.0233 - val_loss: 0.0201\n",
      "Epoch 7/50\n",
      "\u001b[1m1929/1929\u001b[0m \u001b[32m━━━━━━━━━━━━━━━━━━━━\u001b[0m\u001b[37m\u001b[0m \u001b[1m170s\u001b[0m 88ms/step - loss: 0.0229 - val_loss: 0.0201\n",
      "Epoch 8/50\n",
      "\u001b[1m1929/1929\u001b[0m \u001b[32m━━━━━━━━━━━━━━━━━━━━\u001b[0m\u001b[37m\u001b[0m \u001b[1m182s\u001b[0m 94ms/step - loss: 0.0230 - val_loss: 0.0201\n",
      "Epoch 9/50\n",
      "\u001b[1m1929/1929\u001b[0m \u001b[32m━━━━━━━━━━━━━━━━━━━━\u001b[0m\u001b[37m\u001b[0m \u001b[1m162s\u001b[0m 84ms/step - loss: 0.0232 - val_loss: 0.0203\n",
      "Epoch 10/50\n",
      "\u001b[1m1929/1929\u001b[0m \u001b[32m━━━━━━━━━━━━━━━━━━━━\u001b[0m\u001b[37m\u001b[0m \u001b[1m157s\u001b[0m 81ms/step - loss: 0.0228 - val_loss: 0.0202\n",
      "Epoch 11/50\n",
      "\u001b[1m1929/1929\u001b[0m \u001b[32m━━━━━━━━━━━━━━━━━━━━\u001b[0m\u001b[37m\u001b[0m \u001b[1m145s\u001b[0m 75ms/step - loss: 0.0230 - val_loss: 0.0201\n",
      "Epoch 12/50\n",
      "\u001b[1m1929/1929\u001b[0m \u001b[32m━━━━━━━━━━━━━━━━━━━━\u001b[0m\u001b[37m\u001b[0m \u001b[1m157s\u001b[0m 81ms/step - loss: 0.0227 - val_loss: 0.0201\n",
      "Epoch 13/50\n",
      "\u001b[1m1929/1929\u001b[0m \u001b[32m━━━━━━━━━━━━━━━━━━━━\u001b[0m\u001b[37m\u001b[0m \u001b[1m98s\u001b[0m 51ms/step - loss: 0.0230 - val_loss: 0.0201\n",
      "Test Loss (MAE): 0.02303583361208439\n",
      "\u001b[1m4724/4724\u001b[0m \u001b[32m━━━━━━━━━━━━━━━━━━━━\u001b[0m\u001b[37m\u001b[0m \u001b[1m38s\u001b[0m 8ms/step\n",
      "Predictions: [[-1.2634917e-04]\n",
      " [-1.2273711e-04]\n",
      " [-1.1618939e-04]\n",
      " [-1.0786138e-04]\n",
      " [-9.8831588e-05]]\n",
      "Actual Values: [[0.00e+00]\n",
      " [0.00e+00]\n",
      " [1.67e-05]\n",
      " [0.00e+00]\n",
      " [0.00e+00]]\n"
     ]
    }
   ],
   "source": [
    "# Define the target column 'Dishwasher [kW]'\n",
    "critical_columns = ['Dishwasher [kW]']\n",
    "\n",
    "# Drop rows with missing values in critical target column and forward-fill/backward-fill weather columns\n",
    "df_cleaned = df.dropna(subset=critical_columns)\n",
    "df_cleaned[weather_columns] = df_cleaned[weather_columns].fillna(method='ffill').fillna(method='bfill')\n",
    "\n",
    "# Separate input features and target variables\n",
    "X = df_cleaned[weather_columns]\n",
    "y = df_cleaned[critical_columns]\n",
    "\n",
    "# Scale features and target columns\n",
    "scaler_X = MinMaxScaler()\n",
    "scaler_y = MinMaxScaler()\n",
    "\n",
    "X_scaled = scaler_X.fit_transform(X)\n",
    "y_scaled = scaler_y.fit_transform(y)\n",
    "\n",
    "# Generate sequences\n",
    "X_sequences, y_sequences = create_sequences(X_scaled, y_scaled, time_steps=60)\n",
    "\n",
    "# Split the data into training and testing sets\n",
    "X_train, X_test, y_train, y_test = train_test_split(X_sequences, y_sequences, test_size=0.3, random_state=42, shuffle=False)\n",
    "\n",
    "# Build the LSTM model\n",
    "model = Sequential()\n",
    "model.add(LSTM(56, activation='tanh', return_sequences=True, input_shape=(X_train.shape[1], X_train.shape[2])))\n",
    "model.add(LSTM(28, activation='tanh', return_sequences=True))\n",
    "model.add(LSTM(14, activation='tanh'))\n",
    "model.add(Dense(1))  # Single output for 'Dishwasher [kW]'\n",
    "\n",
    "# Compile the model with MAE as the loss function\n",
    "model.compile(optimizer='adam', loss='mean_absolute_error')\n",
    "\n",
    "# Early stopping to prevent overfitting\n",
    "early_stopping = EarlyStopping(monitor='val_loss', patience=10, min_delta=0.00005, restore_best_weights=True)\n",
    "\n",
    "# Train the model\n",
    "history = model.fit(\n",
    "    X_train, y_train,\n",
    "    validation_split=0.3,\n",
    "    epochs=50,\n",
    "    batch_size=128,\n",
    "    callbacks=[early_stopping],\n",
    "    verbose=1\n",
    ")\n",
    "\n",
    "# Evaluate the model\n",
    "loss = model.evaluate(X_test, y_test, verbose=0)\n",
    "print(f'Test Loss (MAE): {loss}')\n",
    "\n",
    "# Make predictions\n",
    "y_pred_scaled = model.predict(X_test)\n",
    "\n",
    "# Inverse transform the predictions and the actual values\n",
    "y_pred = scaler_y.inverse_transform(y_pred_scaled)\n",
    "y_test_original = scaler_y.inverse_transform(y_test)\n",
    "\n",
    "# Print the first few predictions and actual values for comparison\n",
    "print(f'Predictions: {y_pred[:5]}')\n",
    "print(f'Actual Values: {y_test_original[:5]}')\n"
   ]
  },
  {
   "cell_type": "code",
   "execution_count": 14,
   "metadata": {},
   "outputs": [
    {
     "name": "stderr",
     "output_type": "stream",
     "text": [
      "C:\\Users\\keert\\AppData\\Local\\Temp\\ipykernel_6492\\461743820.py:6: FutureWarning: DataFrame.fillna with 'method' is deprecated and will raise in a future version. Use obj.ffill() or obj.bfill() instead.\n",
      "  df_cleaned[weather_columns] = df_cleaned[weather_columns].fillna(method='ffill').fillna(method='bfill')\n",
      "C:\\Users\\keert\\AppData\\Local\\Temp\\ipykernel_6492\\461743820.py:6: SettingWithCopyWarning: \n",
      "A value is trying to be set on a copy of a slice from a DataFrame.\n",
      "Try using .loc[row_indexer,col_indexer] = value instead\n",
      "\n",
      "See the caveats in the documentation: https://pandas.pydata.org/pandas-docs/stable/user_guide/indexing.html#returning-a-view-versus-a-copy\n",
      "  df_cleaned[weather_columns] = df_cleaned[weather_columns].fillna(method='ffill').fillna(method='bfill')\n",
      "C:\\Users\\keert\\AppData\\Roaming\\Python\\Python311\\site-packages\\keras\\src\\layers\\rnn\\rnn.py:204: UserWarning: Do not pass an `input_shape`/`input_dim` argument to a layer. When using Sequential models, prefer using an `Input(shape)` object as the first layer in the model instead.\n",
      "  super().__init__(**kwargs)\n"
     ]
    },
    {
     "name": "stdout",
     "output_type": "stream",
     "text": [
      "Epoch 1/50\n",
      "\u001b[1m1929/1929\u001b[0m \u001b[32m━━━━━━━━━━━━━━━━━━━━\u001b[0m\u001b[37m\u001b[0m \u001b[1m99s\u001b[0m 48ms/step - loss: 0.0740 - val_loss: 0.0623\n",
      "Epoch 2/50\n",
      "\u001b[1m1929/1929\u001b[0m \u001b[32m━━━━━━━━━━━━━━━━━━━━\u001b[0m\u001b[37m\u001b[0m \u001b[1m99s\u001b[0m 51ms/step - loss: 0.0708 - val_loss: 0.0626\n",
      "Epoch 3/50\n",
      "\u001b[1m1929/1929\u001b[0m \u001b[32m━━━━━━━━━━━━━━━━━━━━\u001b[0m\u001b[37m\u001b[0m \u001b[1m99s\u001b[0m 51ms/step - loss: 0.0708 - val_loss: 0.0623\n",
      "Epoch 4/50\n",
      "\u001b[1m1929/1929\u001b[0m \u001b[32m━━━━━━━━━━━━━━━━━━━━\u001b[0m\u001b[37m\u001b[0m \u001b[1m102s\u001b[0m 53ms/step - loss: 0.0705 - val_loss: 0.0625\n",
      "Epoch 5/50\n",
      "\u001b[1m1929/1929\u001b[0m \u001b[32m━━━━━━━━━━━━━━━━━━━━\u001b[0m\u001b[37m\u001b[0m \u001b[1m92s\u001b[0m 48ms/step - loss: 0.0716 - val_loss: 0.0627\n",
      "Epoch 6/50\n",
      "\u001b[1m1929/1929\u001b[0m \u001b[32m━━━━━━━━━━━━━━━━━━━━\u001b[0m\u001b[37m\u001b[0m \u001b[1m79s\u001b[0m 41ms/step - loss: 0.0718 - val_loss: 0.0629\n",
      "Epoch 7/50\n",
      "\u001b[1m1929/1929\u001b[0m \u001b[32m━━━━━━━━━━━━━━━━━━━━\u001b[0m\u001b[37m\u001b[0m \u001b[1m79s\u001b[0m 41ms/step - loss: 0.0715 - val_loss: 0.0627\n",
      "Epoch 8/50\n",
      "\u001b[1m1929/1929\u001b[0m \u001b[32m━━━━━━━━━━━━━━━━━━━━\u001b[0m\u001b[37m\u001b[0m \u001b[1m88s\u001b[0m 46ms/step - loss: 0.0714 - val_loss: 0.0628\n",
      "Epoch 9/50\n",
      "\u001b[1m1929/1929\u001b[0m \u001b[32m━━━━━━━━━━━━━━━━━━━━\u001b[0m\u001b[37m\u001b[0m \u001b[1m91s\u001b[0m 47ms/step - loss: 0.0710 - val_loss: 0.0626\n",
      "Epoch 10/50\n",
      "\u001b[1m1929/1929\u001b[0m \u001b[32m━━━━━━━━━━━━━━━━━━━━\u001b[0m\u001b[37m\u001b[0m \u001b[1m89s\u001b[0m 46ms/step - loss: 0.0706 - val_loss: 0.0626\n",
      "Epoch 11/50\n",
      "\u001b[1m1929/1929\u001b[0m \u001b[32m━━━━━━━━━━━━━━━━━━━━\u001b[0m\u001b[37m\u001b[0m \u001b[1m93s\u001b[0m 48ms/step - loss: 0.0716 - val_loss: 0.0627\n",
      "Test Loss (MAE): 0.08315292000770569\n",
      "\u001b[1m4724/4724\u001b[0m \u001b[32m━━━━━━━━━━━━━━━━━━━━\u001b[0m\u001b[37m\u001b[0m \u001b[1m31s\u001b[0m 7ms/step\n",
      "Predictions: [[0.00150546]\n",
      " [0.00150456]\n",
      " [0.00150178]\n",
      " [0.00149766]\n",
      " [0.00149295]]\n",
      "Actual Values: [[0.00155   ]\n",
      " [0.00168333]\n",
      " [0.00165   ]\n",
      " [0.00171667]\n",
      " [0.00163333]]\n"
     ]
    }
   ],
   "source": [
    "# Define the target column 'Living room [kW]'\n",
    "critical_columns = ['Living room [kW]']\n",
    "\n",
    "# Drop rows with missing values in critical target column and forward-fill/backward-fill weather columns\n",
    "df_cleaned = df.dropna(subset=critical_columns)\n",
    "df_cleaned[weather_columns] = df_cleaned[weather_columns].fillna(method='ffill').fillna(method='bfill')\n",
    "\n",
    "# Separate input features and target variables\n",
    "X = df_cleaned[weather_columns]\n",
    "y = df_cleaned[critical_columns]\n",
    "\n",
    "# Scale features and target columns\n",
    "scaler_X = MinMaxScaler()\n",
    "scaler_y = MinMaxScaler()\n",
    "\n",
    "X_scaled = scaler_X.fit_transform(X)\n",
    "y_scaled = scaler_y.fit_transform(y)\n",
    "\n",
    "# Generate sequences\n",
    "X_sequences, y_sequences = create_sequences(X_scaled, y_scaled, time_steps=60)\n",
    "\n",
    "# Split the data into training and testing sets\n",
    "X_train, X_test, y_train, y_test = train_test_split(X_sequences, y_sequences, test_size=0.3, random_state=42, shuffle=False)\n",
    "\n",
    "# Build the LSTM model\n",
    "model = Sequential()\n",
    "model.add(LSTM(56, activation='tanh', return_sequences=True, input_shape=(X_train.shape[1], X_train.shape[2])))\n",
    "model.add(LSTM(28, activation='tanh', return_sequences=True))\n",
    "model.add(LSTM(14, activation='tanh'))\n",
    "model.add(Dense(1))  # Single output for 'Living room [kW]'\n",
    "\n",
    "# Compile the model with MAE as the loss function\n",
    "model.compile(optimizer='adam', loss='mean_absolute_error')\n",
    "\n",
    "# Early stopping to prevent overfitting\n",
    "early_stopping = EarlyStopping(monitor='val_loss', patience=10, min_delta=0.00005, restore_best_weights=True)\n",
    "\n",
    "# Train the model\n",
    "history = model.fit(\n",
    "    X_train, y_train,\n",
    "    validation_split=0.3,\n",
    "    epochs=50,\n",
    "    batch_size=128,\n",
    "    callbacks=[early_stopping],\n",
    "    verbose=1\n",
    ")\n",
    "\n",
    "# Evaluate the model\n",
    "loss = model.evaluate(X_test, y_test, verbose=0)\n",
    "print(f'Test Loss (MAE): {loss}')\n",
    "\n",
    "# Make predictions\n",
    "y_pred_scaled = model.predict(X_test)\n",
    "\n",
    "# Inverse transform the predictions and the actual values\n",
    "y_pred = scaler_y.inverse_transform(y_pred_scaled)\n",
    "y_test_original = scaler_y.inverse_transform(y_test)\n",
    "\n",
    "# Print the first few predictions and actual values for comparison\n",
    "print(f'Predictions: {y_pred[:5]}')\n",
    "print(f'Actual Values: {y_test_original[:5]}')\n"
   ]
  }
 ],
 "metadata": {
  "kernelspec": {
   "display_name": "base",
   "language": "python",
   "name": "python3"
  },
  "language_info": {
   "codemirror_mode": {
    "name": "ipython",
    "version": 3
   },
   "file_extension": ".py",
   "mimetype": "text/x-python",
   "name": "python",
   "nbconvert_exporter": "python",
   "pygments_lexer": "ipython3",
   "version": "3.11.7"
  }
 },
 "nbformat": 4,
 "nbformat_minor": 2
}
